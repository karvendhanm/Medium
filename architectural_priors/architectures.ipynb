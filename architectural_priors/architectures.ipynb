{
 "cells": [
  {
   "cell_type": "code",
   "execution_count": 1,
   "id": "45fa7332",
   "metadata": {},
   "outputs": [],
   "source": [
    "from IPython.core.interactiveshell import InteractiveShell\n",
    "InteractiveShell.ast_node_interactivity = \"all\""
   ]
  },
  {
   "cell_type": "code",
   "execution_count": 2,
   "id": "1971c86b",
   "metadata": {},
   "outputs": [
    {
     "data": {
      "text/html": [
       "<style type=\"text/css\">\n",
       "table.dataframe td, table.dataframe th {\n",
       "    border: 1px  black solid !important;\n",
       "  color: black !important;\n",
       "}\n",
       "</style>\n"
      ],
      "text/plain": [
       "<IPython.core.display.HTML object>"
      ]
     },
     "metadata": {},
     "output_type": "display_data"
    }
   ],
   "source": [
    "%%HTML\n",
    "<style type=\"text/css\">\n",
    "table.dataframe td, table.dataframe th {\n",
    "    border: 1px  black solid !important;\n",
    "  color: black !important;\n",
    "}\n",
    "</style>"
   ]
  },
  {
   "cell_type": "code",
   "execution_count": 3,
   "id": "463a1f86",
   "metadata": {},
   "outputs": [],
   "source": [
    "import matplotlib\n",
    "import matplotlib.pyplot as plt\n",
    "import numpy as np\n",
    "import random\n",
    "\n",
    "from sklearn.datasets import fetch_openml"
   ]
  },
  {
   "cell_type": "code",
   "execution_count": 4,
   "id": "ed9dab5b",
   "metadata": {},
   "outputs": [],
   "source": [
    "import warnings\n",
    "warnings.filterwarnings('ignore')"
   ]
  },
  {
   "cell_type": "code",
   "execution_count": 5,
   "id": "3cdc607d",
   "metadata": {
    "scrolled": true
   },
   "outputs": [],
   "source": [
    "# cache the downloaded dataset into 'data_home'\n",
    "mnist = fetch_openml('mnist_784', version=1, cache=True)\n",
    "\n",
    "data = mnist['data']\n",
    "target = mnist['target']"
   ]
  },
  {
   "cell_type": "code",
   "execution_count": 6,
   "id": "017b00a5",
   "metadata": {},
   "outputs": [
    {
     "name": "stdout",
     "output_type": "stream",
     "text": [
      "the shape of the data is: (70000, 784)\n",
      "the shape of the target is: (70000,)\n"
     ]
    }
   ],
   "source": [
    "# let us explore the shape of the inputs\n",
    "print(f'the shape of the data is: {data.shape}')\n",
    "print(f'the shape of the target is: {target.shape}')"
   ]
  },
  {
   "cell_type": "markdown",
   "id": "fc7913cd",
   "metadata": {},
   "source": [
    "there are 70,000 imaages, and each image has 784 features. This is because each image is 28x28 pixels, and each\n",
    "feature represents 1 pixel intensity. from 0 (white) to 255 (black)."
   ]
  },
  {
   "cell_type": "code",
   "execution_count": 7,
   "id": "2a253a60",
   "metadata": {},
   "outputs": [
    {
     "data": {
      "image/png": "[encoded data removed]",
      "text/plain": [
       "<Figure size 640x480 with 1 Axes>"
      ]
     },
     "metadata": {},
     "output_type": "display_data"
    }
   ],
   "source": [
    "# Lets take a look at one digit from the datatset. \n",
    "# Grab an random instance's feature vector, reshape it to a 28X28 array, and display the same\n",
    "# using matplotlib's imshow() function.\n",
    "def display_image(data, random_number):\n",
    "    \"\"\"\n",
    "    \n",
    "    :param data: \n",
    "    :param idx: \n",
    "    :return: \n",
    "    \"\"\"\n",
    "    some_digital_image = np.array(data.iloc[random_number, :]).reshape(28, 28)\n",
    "    plt.imshow(some_digital_image, cmap=matplotlib.cm.binary, interpolation='nearest')\n",
    "    plt.show()\n",
    "    \n",
    "    return None\n",
    "\n",
    "# displaying a random image\n",
    "random_num = 24021\n",
    "display_image(data, random_num)"
   ]
  },
  {
   "cell_type": "markdown",
   "id": "7f9d6e34",
   "metadata": {},
   "source": [
    "In \"Hands-on machine learning with scikit-learn and tensorflow\" refer figure 3-1, page number 81. Create such an image for the article, showing different numbers so that readers can get the feel for the complexity of the classification task."
   ]
  },
  {
   "cell_type": "code",
   "execution_count": 8,
   "id": "1ed21633",
   "metadata": {},
   "outputs": [],
   "source": [
    "# You should always create a test set and set it aside before before inspecting the data closely.\n",
    "# MNIST dataset is already split into a training set (the first 60000 images) and test set (the last 10000 images),\n",
    "# see mnist['DESCR'] for more details on train, test set split.\n",
    "X_train, X_test, y_train, y_test = data[:60000], data[60000:], target[:60000], target[60000:]"
   ]
  },
  {
   "cell_type": "code",
   "execution_count": 9,
   "id": "2de71ae3",
   "metadata": {},
   "outputs": [],
   "source": [
    "# shuffle the training data\n",
    "# shuffling will guarentee that all cross-validation folds will be similar\n",
    "# you don't want some of the folds to be missing some digits.\n",
    "X_train = X_train.sample(frac=1, random_state=42).reset_index(drop=True)\n",
    "y_train = y_train.sample(frac=1, random_state=42).reset_index(drop=True)"
   ]
  },
  {
   "cell_type": "markdown",
   "id": "dc7b975d",
   "metadata": {},
   "source": [
    "TODO, write this more clearly for easy reader understading:\n",
    "-------------------------------------------------------------------------------------\n",
    "Now, that we have shuffled the training data, lets check if the image and its assoicated labels are inorder given that we have done shuffling seperately for X_train and y_train."
   ]
  },
  {
   "cell_type": "code",
   "execution_count": 10,
   "id": "40f5694f",
   "metadata": {
    "scrolled": false
   },
   "outputs": [
    {
     "data": {
      "image/png": "[encoded data removed]",
      "text/plain": [
       "<Figure size 640x480 with 1 Axes>"
      ]
     },
     "metadata": {},
     "output_type": "display_data"
    }
   ],
   "source": [
    "# just checking if the train data(X_train) and its target(y_train) is aligned after the shuffle.\n",
    "random_num = 23449\n",
    "some_digit = X_train.iloc[random_num, :]\n",
    "display_image(X_train, random_num)"
   ]
  },
  {
   "cell_type": "code",
   "execution_count": 11,
   "id": "fc1298d8",
   "metadata": {},
   "outputs": [
    {
     "name": "stdout",
     "output_type": "stream",
     "text": [
      "0    7\n",
      "1    3\n",
      "2    8\n",
      "3    9\n",
      "4    3\n",
      "Name: class, dtype: category\n",
      "Categories (10, object): ['0', '1', '2', '3', ..., '6', '7', '8', '9']\n",
      "60000    7\n",
      "60001    2\n",
      "60002    1\n",
      "60003    0\n",
      "60004    4\n",
      "Name: class, dtype: category\n",
      "Categories (10, object): ['0', '1', '2', '3', ..., '6', '7', '8', '9']\n",
      "0    0\n",
      "1    0\n",
      "2    0\n",
      "3    0\n",
      "4    0\n",
      "Name: class, dtype: int64\n",
      "60000    0\n",
      "60001    0\n",
      "60002    0\n",
      "60003    0\n",
      "60004    0\n",
      "Name: class, dtype: int64\n"
     ]
    }
   ],
   "source": [
    "# training a binary classifier. Lets simplify the problem for now and only try to identify one digit.\n",
    "print(y_train.head())\n",
    "print(y_test.head())\n",
    "\n",
    "y_train_5 = (y_train == '5').astype(int)\n",
    "y_test_5 = (y_test == '5').astype(int)\n",
    "\n",
    "print(y_train_5.head())\n",
    "print(y_test_5.head())"
   ]
  },
  {
   "cell_type": "code",
   "execution_count": 12,
   "id": "7b2d00a4",
   "metadata": {},
   "outputs": [
    {
     "data": {
      "text/plain": [
       "5421"
      ]
     },
     "execution_count": 12,
     "metadata": {},
     "output_type": "execute_result"
    },
    {
     "data": {
      "text/plain": [
       "892"
      ]
     },
     "execution_count": 12,
     "metadata": {},
     "output_type": "execute_result"
    }
   ],
   "source": [
    "# TODO write it better\n",
    "# Now, all instance which had label as 5 has turned into 1, and the rest 0\n",
    "sum(y_train_5 == 1)\n",
    "sum(y_test_5 == 1)"
   ]
  },
  {
   "cell_type": "code",
   "execution_count": 13,
   "id": "883c21b1",
   "metadata": {},
   "outputs": [
    {
     "data": {
      "text/html": [
       "<style>#sk-container-id-1 {color: black;}#sk-container-id-1 pre{padding: 0;}#sk-container-id-1 div.sk-toggleable {background-color: white;}#sk-container-id-1 label.sk-toggleable__label {cursor: pointer;display: block;width: 100%;margin-bottom: 0;padding: 0.3em;box-sizing: border-box;text-align: center;}#sk-container-id-1 label.sk-toggleable__label-arrow:before {content: \"▸\";float: left;margin-right: 0.25em;color: #696969;}#sk-container-id-1 label.sk-toggleable__label-arrow:hover:before {color: black;}#sk-container-id-1 div.sk-estimator:hover label.sk-toggleable__label-arrow:before {color: black;}#sk-container-id-1 div.sk-toggleable__content {max-height: 0;max-width: 0;overflow: hidden;text-align: left;background-color: #f0f8ff;}#sk-container-id-1 div.sk-toggleable__content pre {margin: 0.2em;color: black;border-radius: 0.25em;background-color: #f0f8ff;}#sk-container-id-1 input.sk-toggleable__control:checked~div.sk-toggleable__content {max-height: 200px;max-width: 100%;overflow: auto;}#sk-container-id-1 input.sk-toggleable__control:checked~label.sk-toggleable__label-arrow:before {content: \"▾\";}#sk-container-id-1 div.sk-estimator input.sk-toggleable__control:checked~label.sk-toggleable__label {background-color: #d4ebff;}#sk-container-id-1 div.sk-label input.sk-toggleable__control:checked~label.sk-toggleable__label {background-color: #d4ebff;}#sk-container-id-1 input.sk-hidden--visually {border: 0;clip: rect(1px 1px 1px 1px);clip: rect(1px, 1px, 1px, 1px);height: 1px;margin: -1px;overflow: hidden;padding: 0;position: absolute;width: 1px;}#sk-container-id-1 div.sk-estimator {font-family: monospace;background-color: #f0f8ff;border: 1px dotted black;border-radius: 0.25em;box-sizing: border-box;margin-bottom: 0.5em;}#sk-container-id-1 div.sk-estimator:hover {background-color: #d4ebff;}#sk-container-id-1 div.sk-parallel-item::after {content: \"\";width: 100%;border-bottom: 1px solid gray;flex-grow: 1;}#sk-container-id-1 div.sk-label:hover label.sk-toggleable__label {background-color: #d4ebff;}#sk-container-id-1 div.sk-serial::before {content: \"\";position: absolute;border-left: 1px solid gray;box-sizing: border-box;top: 0;bottom: 0;left: 50%;z-index: 0;}#sk-container-id-1 div.sk-serial {display: flex;flex-direction: column;align-items: center;background-color: white;padding-right: 0.2em;padding-left: 0.2em;position: relative;}#sk-container-id-1 div.sk-item {position: relative;z-index: 1;}#sk-container-id-1 div.sk-parallel {display: flex;align-items: stretch;justify-content: center;background-color: white;position: relative;}#sk-container-id-1 div.sk-item::before, #sk-container-id-1 div.sk-parallel-item::before {content: \"\";position: absolute;border-left: 1px solid gray;box-sizing: border-box;top: 0;bottom: 0;left: 50%;z-index: -1;}#sk-container-id-1 div.sk-parallel-item {display: flex;flex-direction: column;z-index: 1;position: relative;background-color: white;}#sk-container-id-1 div.sk-parallel-item:first-child::after {align-self: flex-end;width: 50%;}#sk-container-id-1 div.sk-parallel-item:last-child::after {align-self: flex-start;width: 50%;}#sk-container-id-1 div.sk-parallel-item:only-child::after {width: 0;}#sk-container-id-1 div.sk-dashed-wrapped {border: 1px dashed gray;margin: 0 0.4em 0.5em 0.4em;box-sizing: border-box;padding-bottom: 0.4em;background-color: white;}#sk-container-id-1 div.sk-label label {font-family: monospace;font-weight: bold;display: inline-block;line-height: 1.2em;}#sk-container-id-1 div.sk-label-container {text-align: center;}#sk-container-id-1 div.sk-container {/* jupyter's `normalize.less` sets `[hidden] { display: none; }` but bootstrap.min.css set `[hidden] { display: none !important; }` so we also need the `!important` here to be able to override the default hidden behavior on the sphinx rendered scikit-learn.org. See: https://github.com/scikit-learn/scikit-learn/issues/21755 */display: inline-block !important;position: relative;}#sk-container-id-1 div.sk-text-repr-fallback {display: none;}</style><div id=\"sk-container-id-1\" class=\"sk-top-container\"><div class=\"sk-text-repr-fallback\"><pre>SGDClassifier(random_state=42)</pre><b>In a Jupyter environment, please rerun this cell to show the HTML representation or trust the notebook. <br />On GitHub, the HTML representation is unable to render, please try loading this page with nbviewer.org.</b></div><div class=\"sk-container\" hidden><div class=\"sk-item\"><div class=\"sk-estimator sk-toggleable\"><input class=\"sk-toggleable__control sk-hidden--visually\" id=\"sk-estimator-id-1\" type=\"checkbox\" checked><label for=\"sk-estimator-id-1\" class=\"sk-toggleable__label sk-toggleable__label-arrow\">SGDClassifier</label><div class=\"sk-toggleable__content\"><pre>SGDClassifier(random_state=42)</pre></div></div></div></div></div>"
      ],
      "text/plain": [
       "SGDClassifier(random_state=42)"
      ]
     },
     "execution_count": 13,
     "metadata": {},
     "output_type": "execute_result"
    }
   ],
   "source": [
    "from sklearn.linear_model import SGDClassifier\n",
    "\n",
    "# initiate and train sgd classifier.\n",
    "sgd_clf = SGDClassifier(random_state=42)\n",
    "sgd_clf.fit(X_train, y_train_5)"
   ]
  },
  {
   "cell_type": "code",
   "execution_count": 14,
   "id": "2d35c885",
   "metadata": {},
   "outputs": [
    {
     "data": {
      "text/plain": [
       "(1,)"
      ]
     },
     "execution_count": 14,
     "metadata": {},
     "output_type": "execute_result"
    }
   ],
   "source": [
    "y_pred = sgd_clf.predict(np.expand_dims(some_digit, axis=0))\n",
    "y_pred.shape"
   ]
  },
  {
   "cell_type": "code",
   "execution_count": 15,
   "id": "2a36512f",
   "metadata": {},
   "outputs": [
    {
     "data": {
      "text/plain": [
       "(10000,)"
      ]
     },
     "execution_count": 15,
     "metadata": {},
     "output_type": "execute_result"
    }
   ],
   "source": [
    "y_hat_5 = sgd_clf.predict(X_test)\n",
    "y_hat_5.shape"
   ]
  },
  {
   "cell_type": "code",
   "execution_count": 16,
   "id": "867d9518",
   "metadata": {},
   "outputs": [
    {
     "data": {
      "text/plain": [
       "array([[8920,  188],\n",
       "       [ 137,  755]])"
      ]
     },
     "execution_count": 16,
     "metadata": {},
     "output_type": "execute_result"
    },
    {
     "data": {
      "text/plain": [
       "0.8006362672322376"
      ]
     },
     "execution_count": 16,
     "metadata": {},
     "output_type": "execute_result"
    },
    {
     "data": {
      "text/plain": [
       "0.8464125560538116"
      ]
     },
     "execution_count": 16,
     "metadata": {},
     "output_type": "execute_result"
    },
    {
     "data": {
      "text/plain": [
       "0.9675"
      ]
     },
     "execution_count": 16,
     "metadata": {},
     "output_type": "execute_result"
    },
    {
     "data": {
      "text/plain": [
       "array([0.9681 , 0.95655, 0.95515])"
      ]
     },
     "execution_count": 16,
     "metadata": {},
     "output_type": "execute_result"
    }
   ],
   "source": [
    "from sklearn.metrics import confusion_matrix, precision_score, recall_score, accuracy_score\n",
    "from sklearn.model_selection import cross_val_score\n",
    "confusion_matrix(y_test_5, y_hat_5)\n",
    "precision_score(y_test_5, y_hat_5)\n",
    "recall_score(y_test_5, y_hat_5)\n",
    "accuracy_score(y_test_5, y_hat_5)\n",
    "cross_val_score(sgd_clf, X_train, y_train_5, cv=3, scoring='accuracy')"
   ]
  },
  {
   "cell_type": "code",
   "execution_count": 17,
   "id": "d32a5c2b",
   "metadata": {},
   "outputs": [
    {
     "data": {
      "text/plain": [
       "array([[ 0.00000000e+00,  0.00000000e+00,  0.00000000e+00,\n",
       "         0.00000000e+00,  0.00000000e+00,  0.00000000e+00,\n",
       "         0.00000000e+00,  0.00000000e+00,  0.00000000e+00,\n",
       "         0.00000000e+00,  0.00000000e+00,  0.00000000e+00,\n",
       "         0.00000000e+00,  0.00000000e+00,  0.00000000e+00,\n",
       "         0.00000000e+00,  0.00000000e+00,  0.00000000e+00,\n",
       "         0.00000000e+00,  0.00000000e+00,  0.00000000e+00,\n",
       "         0.00000000e+00,  0.00000000e+00,  0.00000000e+00,\n",
       "         0.00000000e+00,  0.00000000e+00,  0.00000000e+00,\n",
       "         0.00000000e+00,  0.00000000e+00,  0.00000000e+00,\n",
       "         0.00000000e+00,  0.00000000e+00,  0.00000000e+00,\n",
       "         0.00000000e+00,  0.00000000e+00,  0.00000000e+00,\n",
       "         0.00000000e+00, -4.70971875e-02, -2.29145931e-01,\n",
       "        -2.11937344e-01, -5.97771995e-01, -3.77683215e-01,\n",
       "        -1.38574417e-01, -7.61706436e-01, -1.52522430e+00,\n",
       "        -7.94312181e-01, -2.43275088e+00, -2.00072475e+00,\n",
       "        -4.35648984e-01, -1.24988690e-01,  0.00000000e+00,\n",
       "         0.00000000e+00,  0.00000000e+00,  0.00000000e+00,\n",
       "         0.00000000e+00,  0.00000000e+00,  0.00000000e+00,\n",
       "         0.00000000e+00,  0.00000000e+00, -8.24200781e-02,\n",
       "        -7.87972175e-02, -3.07943149e-02,  0.00000000e+00,\n",
       "        -5.00860475e-01, -2.95806566e+00, -5.82193695e+00,\n",
       "        -9.72285207e+00, -1.52459030e+01, -1.38655931e+01,\n",
       "        -1.33040498e+01, -1.67584473e+01, -5.86541127e+00,\n",
       "        -1.36038415e+00, -4.14455250e+00, -5.15351917e-01,\n",
       "        -1.78154169e+00, -7.31817836e+00, -3.11475438e+00,\n",
       "        -2.99157712e+00, -9.29263738e-01, -1.80780743e+00,\n",
       "         0.00000000e+00,  0.00000000e+00,  0.00000000e+00,\n",
       "         0.00000000e+00,  0.00000000e+00,  0.00000000e+00,\n",
       "         2.62657392e-02,  9.04628286e+00, -4.28946692e+00,\n",
       "        -3.44896327e+00, -6.88434081e+00, -3.02871144e+00,\n",
       "        -1.29743694e+01,  9.31437454e+00, -1.30712810e+01,\n",
       "         3.72973496e+00, -3.13920869e+00, -9.86323792e-01,\n",
       "        -1.98351617e+00, -4.52948144e+00,  6.10452007e-01,\n",
       "        -3.13105725e+00, -4.40177560e-01, -1.62485297e+00,\n",
       "        -2.85209699e+00,  5.37541938e+00, -1.11765249e+01,\n",
       "        -6.22588590e+00,  1.95815614e+00, -9.39226604e-01,\n",
       "         0.00000000e+00,  0.00000000e+00, -6.88343509e-02,\n",
       "        -6.83814934e-01, -6.53020619e-01, -5.44787659e+00,\n",
       "        -1.97400616e+01,  2.26428786e-01,  2.56770243e+00,\n",
       "        -7.80273597e+00, -1.11674677e+00, -3.88823511e+00,\n",
       "         5.07200481e-01, -5.89620559e-01, -3.54496907e+00,\n",
       "        -2.01431048e+00, -1.57594435e-01,  7.07363528e-01,\n",
       "        -5.37994796e-01,  2.69812541e+00, -2.72620258e-01,\n",
       "        -4.39634131e+00,  2.48799950e+00, -2.09220198e+00,\n",
       "         2.98704855e+00,  7.43592133e+00, -4.41717276e+00,\n",
       "        -3.62286058e-03, -2.40286228e+00,  0.00000000e+00,\n",
       "         0.00000000e+00, -1.00262666e+00,  4.23331258e+00,\n",
       "        -2.10089685e+01, -3.16094585e+00, -7.73661876e+00,\n",
       "        -3.62286058e-03,  8.45032229e-01, -5.57920529e-01,\n",
       "        -1.77520168e-01, -6.23132019e-01, -6.46680613e-01,\n",
       "         5.08106196e-01,  1.21365829e-01, -2.84847413e+00,\n",
       "        -6.35812031e-01,  3.40548894e-01,  1.23720689e+00,\n",
       "        -9.30169453e-01,  3.84476079e+00,  6.43057752e-02,\n",
       "         5.72502543e+00,  1.81414743e+00,  5.07200481e-01,\n",
       "        -7.84349315e-01,  5.22959924e+00, -2.60755390e+00,\n",
       "         0.00000000e+00, -1.90200180e-02,  3.96884376e+00,\n",
       "        -1.16565539e+01,  3.03324002e+00,  3.97156091e+00,\n",
       "        -8.61335102e-01, -2.04782194e+00, -2.46716805e+00,\n",
       "        -1.60311581e-01, -1.66470443e+00, -1.25169833e+00,\n",
       "         5.86903413e-01, -2.43637374e-01,  2.00706476e+00,\n",
       "        -7.77103594e-01, -2.41282514e+00,  1.05696957e+00,\n",
       "         5.34371935e-01,  2.77782835e+00,  5.66071965e-01,\n",
       "        -4.10288960e-01,  3.44081183e+00,  1.18195826e+00,\n",
       "         6.10995436e+00, -2.44995946e+00,  5.25224212e+00,\n",
       "         3.54678050e+00,  0.00000000e+00, -5.85091983e-01,\n",
       "         1.29970123e+00, -9.94656371e+00, -1.52721688e+01,\n",
       "        -3.30314313e+00, -1.09138675e+00, -8.60429387e-01,\n",
       "         6.67512061e-01, -1.78335312e+00,  1.60311581e+00,\n",
       "         7.00117806e-01,  6.31283455e-01, -2.91640276e+00,\n",
       "         1.83950746e+00, -2.79503693e+00,  9.17489441e-01,\n",
       "         2.98885998e-01,  1.37487559e+00, -1.04338385e+00,\n",
       "         3.98514663e-01,  9.11149435e-01,  4.33656411e+00,\n",
       "         9.80889501e-01,  3.36110890e+00,  9.76270354e+00,\n",
       "        -9.01729997e+00,  7.91776179e+00,  0.00000000e+00,\n",
       "        -3.53228906e-02, -1.77157882e+00, -1.13314022e+01,\n",
       "        -8.67946823e+00, -1.35132699e+00, -1.19735542e+00,\n",
       "        -1.75708738e-01,  1.79059884e+00, -3.50511761e-01,\n",
       "         1.41110419e+00,  1.70455590e+00,  4.32026124e-01,\n",
       "        -9.23829447e-02, -3.25151737e-01, -2.19183065e-01,\n",
       "        -2.18820779e+00,  1.30604124e+00, -1.31962696e+00,\n",
       "         1.13214393e+00,  2.48890522e+00,  1.66108157e+00,\n",
       "        -4.42351276e+00,  5.23231639e+00,  4.19980112e+00,\n",
       "         3.12200010e+00,  4.83380172e+00, -7.71307017e+00,\n",
       "         0.00000000e+00,  0.00000000e+00, -2.23168211e+00,\n",
       "        -1.28883265e+01, -5.78389691e+00, -3.31310600e+00,\n",
       "         2.43637374e-01, -2.29779932e+00, -3.62286058e-01,\n",
       "         7.36346412e-01,  2.52694525e-01,  2.62113963e+00,\n",
       "         1.98351617e+00, -6.74757782e-01, -2.56679672e+00,\n",
       "        -2.94719708e+00, -1.99438475e+00, -7.04646382e-01,\n",
       "        -1.19373256e+00,  6.97400661e-02, -2.45177090e+00,\n",
       "         6.14346582e+00,  4.75228736e+00, -1.43012421e+00,\n",
       "         8.83434552e+00,  3.36835462e+00,  1.87483035e+00,\n",
       "        -2.38655940e+00,  0.00000000e+00, -2.44543089e-02,\n",
       "        -7.91595036e-01, -1.77973026e+01,  5.20423922e+00,\n",
       "        -2.79413122e+00, -3.22796877e+00,  4.95879041e+00,\n",
       "         2.01883906e+00,  2.13839346e+00,  1.82139315e+00,\n",
       "         1.64387299e+00,  1.07327245e+00,  1.38574417e+00,\n",
       "         9.23829447e-02,  8.12426484e-01, -1.49080713e+00,\n",
       "        -3.75147213e+00, -4.93705325e+00, -4.24418117e+00,\n",
       "        -4.53038715e+00, -3.46798329e+00,  5.08921339e+00,\n",
       "         5.17797348e+00,  1.47531940e+01,  7.63155580e+00,\n",
       "         1.24191661e+01, -7.26745832e+00,  0.00000000e+00,\n",
       "        -1.04157242e+00, -2.06140767e+00, -2.16719520e+01,\n",
       "        -1.34226984e+00, -5.72411971e-01,  5.93062276e+00,\n",
       "        -2.02336763e+00,  3.93080373e-01, -7.67140727e-01,\n",
       "         2.16828205e+00,  2.43546802e+00,  8.14237915e-01,\n",
       "         2.35757652e+00, -3.67720348e-01, -2.27787359e+00,\n",
       "         1.89294465e-01, -2.36663367e+00,  6.64794916e-01,\n",
       "        -2.75699690e+00, -5.92065990e+00, -1.20460114e+01,\n",
       "        -1.57458578e+01,  2.10397628e+00,  2.53029640e+01,\n",
       "         2.59750046e+01, -1.28276436e+01, -2.75337404e-01,\n",
       "         0.00000000e+00, -1.89203894e+00, -5.49044520e+00,\n",
       "         2.29508218e+00, -1.10497248e-01, -2.23621069e+00,\n",
       "         2.10759914e+00,  6.43057752e-01,  2.19998208e+00,\n",
       "        -9.02092283e-01,  2.49343379e+00,  6.85626364e-01,\n",
       "         2.33674507e-01,  1.29607837e+00, -1.47631568e+00,\n",
       "         7.08269243e-01, -1.14754109e+00, -7.60800721e-01,\n",
       "        -1.50711000e+00, -3.06131719e+00,  5.75129116e-01,\n",
       "        -3.74060355e+00, -1.47033796e+01, -3.06004919e+01,\n",
       "        -6.19020072e+01,  2.51390295e+01,  6.65963288e+01,\n",
       "        -3.85834651e-01,  0.00000000e+00, -1.19735542e+00,\n",
       "        -7.10261816e+00,  2.98614283e+00, -4.13006106e-01,\n",
       "         5.47233090e+00, -2.13024202e+00,  9.17489441e-01,\n",
       "         3.44171755e-02,  1.19463828e+00,  1.66923301e+00,\n",
       "         1.10859534e+00, -1.44008708e-01,  9.23829447e-02,\n",
       "        -1.56960434e+00, -2.03061335e+00, -2.63110249e+00,\n",
       "        -8.06992193e-01,  7.78915024e-01,  9.32886598e-02,\n",
       "         2.08405055e+00, -8.78543690e-01,  2.62566820e+00,\n",
       "        -1.27977550e+01, -2.98469369e+01, -4.75129107e+01,\n",
       "         1.20342371e+01, -4.84557602e-01,  6.03840287e+00,\n",
       "        -5.70600541e-01, -1.62847583e+00,  4.95697898e+00,\n",
       "         2.03876479e+00, -1.68010159e+00, -5.96866280e-01,\n",
       "        -4.50140427e-01,  1.52341287e+00,  6.98306376e-01,\n",
       "         2.24073927e+00, -1.28702122e+00,  5.64260535e-01,\n",
       "        -1.26437834e+00, -7.54460715e-01, -1.79331599e-01,\n",
       "        -2.41735372e+00,  1.77520168e-01, -7.10986388e-01,\n",
       "        -2.63472535e+00,  9.22018017e-01, -6.34000601e-03,\n",
       "         8.60429387e-01,  4.43800421e-02,  2.21275267e+01,\n",
       "        -4.71950047e+01, -1.27705835e+00, -5.43429086e-03,\n",
       "         1.61579582e+00,  0.00000000e+00, -1.16656111e+00,\n",
       "        -1.10741791e+01,  3.54768622e+00, -4.25142689e+00,\n",
       "        -1.56326434e+00, -7.76197878e-01,  1.77248454e+00,\n",
       "         1.57685007e+00, -7.03740667e-01, -2.86205986e-01,\n",
       "        -2.88923131e-01, -1.99438475e+00, -2.45811090e+00,\n",
       "        -9.87229507e-01,  1.76614453e-01, -2.72439115e+00,\n",
       "         2.48165949e-01, -1.33140126e+00,  8.60429387e-02,\n",
       "         3.40548894e-01, -3.38194035e+00,  1.44008708e-01,\n",
       "         6.78924072e+00, -3.70075208e+00, -6.30015454e+00,\n",
       "        -5.57920529e-01, -2.06503053e+00,  0.00000000e+00,\n",
       "        -7.57177860e-01,  5.03215334e+00, -4.75681594e+00,\n",
       "         8.74920829e-01, -2.90191132e+00, -4.99683045e+00,\n",
       "        -3.35839175e+00, -4.75500451e-01,  1.48356141e+00,\n",
       "        -2.25070213e+00,  1.13304965e+00,  3.84023221e-01,\n",
       "        -9.92663798e-01, -1.15569252e+00, -3.89276369e+00,\n",
       "        -1.22271544e+00, -3.10660294e+00, -9.53718047e-01,\n",
       "         2.94357422e-01, -1.14120108e+00,  4.79666740e+00,\n",
       "        -1.52703573e+00, -5.92247133e+00, -4.83742458e+00,\n",
       "        -1.24889061e+01, -1.20822400e+00,  0.00000000e+00,\n",
       "        -4.81840457e-01, -5.22325924e+00, -9.02997999e-01,\n",
       "         7.34534982e-01, -1.57866150e+00,  7.19409539e+00,\n",
       "        -3.44534041e+00, -1.17652397e+00, -2.22534211e+00,\n",
       "        -4.38456701e+00, -3.36744891e+00, -4.32116695e+00,\n",
       "        -2.21175638e+00, -3.58300911e+00, -1.13304965e+00,\n",
       "        -5.64260535e-01,  5.87809129e-01,  2.72891973e+00,\n",
       "         3.67720348e-01,  1.50348714e+00,  3.79585217e+00,\n",
       "        -4.64179011e+00,  1.34951556e-01,  7.69948444e+00,\n",
       "        -1.19518170e+01, -1.79331599e+00, -1.40385847e-01,\n",
       "         0.00000000e+00, -1.42287849e+00, -1.24744147e+01,\n",
       "        -6.29200311e+00,  4.59469293e+00,  1.05244100e+00,\n",
       "         3.14283155e-01,  7.30006406e-01, -3.75962356e+00,\n",
       "        -3.16638014e+00, -4.32660124e+00, -5.18884206e+00,\n",
       "         6.81097788e-01,  2.89828846e-01,  6.22226304e-01,\n",
       "        -1.19192113e+00,  1.89294465e-01,  1.94275898e+00,\n",
       "        -1.28068121e+00,  6.33094886e-01,  6.58454910e-01,\n",
       "        -2.08676769e+00,  3.47160615e+00, -1.18648684e-01,\n",
       "        -3.19717446e+00, -1.26455948e+01,  2.04782194e+00,\n",
       "        -9.48283756e-01,  0.00000000e+00, -2.30685647e+00,\n",
       "         8.48202232e+00, -1.92102182e+00,  4.36554699e+00,\n",
       "        -2.12027915e+00,  2.70627685e+00, -2.76243119e-01,\n",
       "         4.09564388e+00,  5.28031929e-01,  5.44334802e-01,\n",
       "        -1.08051817e+00,  5.00860475e-01,  1.58953008e+00,\n",
       "        -1.01168382e+00,  2.46988520e+00,  3.05226004e-01,\n",
       "        -1.35585557e+00, -3.62286058e-02, -1.52160144e+00,\n",
       "         1.10316105e+00,  1.76071024e+00, -1.81233600e+00,\n",
       "        -5.54297668e-01,  1.15578310e+01, -9.12508008e+00,\n",
       "        -5.51580523e+00, -8.11520769e-01,  0.00000000e+00,\n",
       "        -6.69323491e-01,  2.57313672e+00, -2.64831108e+00,\n",
       "        -2.08314483e-01,  2.04691623e-01, -3.91268942e-01,\n",
       "        -1.87845321e+00,  4.73689020e-01,  2.75337404e-01,\n",
       "         1.73897308e-01,  3.39733751e+00,  1.03251526e-01,\n",
       "         1.32415554e+00, -2.46897948e+00, -3.32397458e+00,\n",
       "         7.89783606e-01,  6.11357722e-01,  1.13848394e+00,\n",
       "         3.00244570e+00,  6.52114904e-02, -4.12100391e+00,\n",
       "         4.22787829e+00,  1.18286398e+00, -1.10261762e+01,\n",
       "         1.24979633e+01, -9.17942299e+00,  0.00000000e+00,\n",
       "         0.00000000e+00, -4.15723251e-01, -9.32977170e+00,\n",
       "         2.80771695e-02,  3.08939436e+00,  7.12797818e-01,\n",
       "         7.04646382e-01,  1.76614453e-01,  2.26428786e-01,\n",
       "         3.86740367e-01,  1.50076999e+00,  1.15931538e-01,\n",
       "        -7.41780703e-01, -6.34000601e-02,  9.92663798e-01,\n",
       "        -8.92129417e-01, -8.06992193e-01, -3.62286058e-03,\n",
       "        -8.46843660e-01, -1.18829827e+00,  3.22525163e+00,\n",
       "         6.70863207e+00,  1.06512101e+00,  1.62123011e+00,\n",
       "         2.05687909e+00, -9.30169453e-01, -1.15206966e+01,\n",
       "         0.00000000e+00,  0.00000000e+00, -4.07571815e-02,\n",
       "        -4.84285888e+00, -8.94665419e+00,  5.28031929e-01,\n",
       "        -1.22271544e+00, -2.77148834e-01,  3.56851767e-01,\n",
       "        -7.70763588e-01,  5.24409068e-01, -1.12218106e+00,\n",
       "         3.77683215e-01,  2.13477059e+00, -1.07417816e+00,\n",
       "         1.09319818e+00, -6.09546292e-01,  2.48709379e+00,\n",
       "        -1.67829016e+00,  3.37922320e+00,  1.09500961e+00,\n",
       "        -1.37578130e+00, -1.54515004e+00,  1.91739896e+00,\n",
       "         3.31038885e+00, -9.30169453e-01,  3.55040336e+00,\n",
       "         4.63273296e+00,  0.00000000e+00,  0.00000000e+00,\n",
       "         0.00000000e+00,  3.13377440e-01,  2.52966240e+00,\n",
       "         2.46807377e+00,  4.18893254e+00,  1.95453328e+00,\n",
       "        -5.26673356e+00,  1.90743609e+00, -6.17697728e-01,\n",
       "         1.15025823e+00,  3.78588930e-01,  1.84675318e+00,\n",
       "         5.65166250e-01,  1.27071835e+00,  7.03740667e-01,\n",
       "         2.98976569e+00,  5.71506256e-01, -5.04392764e+00,\n",
       "        -1.77791883e+00,  4.44706136e+00, -3.56851767e-01,\n",
       "        -6.00489141e-01,  2.18186778e+00, -5.35096507e+00,\n",
       "         1.49379599e+01,  7.35802983e+00,  0.00000000e+00,\n",
       "         0.00000000e+00,  0.00000000e+00, -9.87229507e-01,\n",
       "        -2.37116225e+00, -1.16058339e+01,  1.12580392e+00,\n",
       "        -4.01956381e+00,  3.28412311e+00, -1.44189851e+00,\n",
       "         3.04863717e+00, -3.66633490e+00, -1.01802382e+00,\n",
       "        -1.68644160e+00, -2.56317386e-01,  2.98885998e-01,\n",
       "         2.42731659e-01, -3.89366940e+00,  1.92645611e+00,\n",
       "         2.58491102e+00, -2.65012251e+00,  7.51743570e-02,\n",
       "        -1.97808187e+00,  7.97935042e-01, -2.05715081e+01,\n",
       "         1.98079902e+00, -1.97391558e+01, -1.85852748e+00,\n",
       "         0.00000000e+00,  0.00000000e+00,  0.00000000e+00,\n",
       "         0.00000000e+00,  5.97771995e+00,  1.08232960e+01,\n",
       "        -8.58436814e+00,  3.27868882e-01,  2.05959624e+00,\n",
       "        -4.27950406e+00,  3.26057452e+00, -1.41382134e+00,\n",
       "         2.92183705e+00, -1.26528406e+00,  2.71805115e+00,\n",
       "        -3.14554870e+00,  1.90200180e+00, -1.57594435e+00,\n",
       "        -1.56688720e-01,  3.04320288e-01,  4.89991893e+00,\n",
       "        -1.21646601e+01,  1.42378421e+00,  8.20487349e+00,\n",
       "         1.64178984e+01,  2.37677768e+01,  0.00000000e+00,\n",
       "         0.00000000e+00,  0.00000000e+00,  0.00000000e+00,\n",
       "         0.00000000e+00,  0.00000000e+00,  0.00000000e+00,\n",
       "         0.00000000e+00, -3.20623161e-01, -1.20460114e-01,\n",
       "        -2.16900663e+01, -1.60963695e+01,  4.26229547e+00,\n",
       "        -7.54370143e+00,  2.38293654e+00, -4.02771525e+00,\n",
       "         1.53881003e+00, -6.49941187e+00,  3.72248924e-01,\n",
       "        -1.03523241e+00, -2.70989971e+00, -6.13984296e+00,\n",
       "        -2.48618807e+00,  8.80264549e+00, -1.10850476e+01,\n",
       "        -9.09700291e+00, -1.20097828e+00, -8.36880793e-01,\n",
       "         0.00000000e+00,  0.00000000e+00,  0.00000000e+00,\n",
       "         0.00000000e+00,  0.00000000e+00,  0.00000000e+00,\n",
       "         0.00000000e+00,  0.00000000e+00,  0.00000000e+00,\n",
       "         0.00000000e+00,  0.00000000e+00, -1.55783005e-01,\n",
       "        -1.40114133e+00,  8.11520769e-01,  3.27959454e+00,\n",
       "        -1.50258142e+00, -5.54388240e+00, -6.52386618e+00,\n",
       "        -5.23503353e+00, -5.64985107e+00, -3.35386318e+00,\n",
       "        -4.02952668e+00, -1.88569893e+00, -2.29779932e+00,\n",
       "        -7.71125874e+00, -4.09564388e+00,  0.00000000e+00,\n",
       "         0.00000000e+00,  0.00000000e+00,  0.00000000e+00,\n",
       "         0.00000000e+00]])"
      ]
     },
     "execution_count": 17,
     "metadata": {},
     "output_type": "execute_result"
    }
   ],
   "source": [
    "sgd_clf.coef_"
   ]
  },
  {
   "cell_type": "code",
   "execution_count": 18,
   "id": "a61306f8",
   "metadata": {},
   "outputs": [
    {
     "data": {
      "text/plain": [
       "array([95.61738])"
      ]
     },
     "execution_count": 18,
     "metadata": {},
     "output_type": "execute_result"
    }
   ],
   "source": [
    "sgd_clf.intercept_"
   ]
  },
  {
   "cell_type": "code",
   "execution_count": 19,
   "id": "4c2d1b61",
   "metadata": {},
   "outputs": [
    {
     "data": {
      "text/plain": [
       "184"
      ]
     },
     "execution_count": 19,
     "metadata": {},
     "output_type": "execute_result"
    },
    {
     "data": {
      "text/plain": [
       "<sklearn.linear_model._sgd_fast.Hinge at 0x7f5f3caebf70>"
      ]
     },
     "execution_count": 19,
     "metadata": {},
     "output_type": "execute_result"
    },
    {
     "data": {
      "text/plain": [
       "array([0, 1])"
      ]
     },
     "execution_count": 19,
     "metadata": {},
     "output_type": "execute_result"
    },
    {
     "data": {
      "text/plain": [
       "11040001.0"
      ]
     },
     "execution_count": 19,
     "metadata": {},
     "output_type": "execute_result"
    }
   ],
   "source": [
    "sgd_clf.n_iter_\n",
    "sgd_clf.loss_function_\n",
    "sgd_clf.classes_\n",
    "sgd_clf.t_"
   ]
  },
  {
   "cell_type": "code",
   "execution_count": 20,
   "id": "9eff7a8b",
   "metadata": {},
   "outputs": [
    {
     "data": {
      "text/plain": [
       "784"
      ]
     },
     "execution_count": 20,
     "metadata": {},
     "output_type": "execute_result"
    },
    {
     "data": {
      "text/plain": [
       "array(['pixel1', 'pixel2', 'pixel3', 'pixel4', 'pixel5', 'pixel6',\n",
       "       'pixel7', 'pixel8', 'pixel9', 'pixel10', 'pixel11', 'pixel12',\n",
       "       'pixel13', 'pixel14', 'pixel15', 'pixel16', 'pixel17', 'pixel18',\n",
       "       'pixel19', 'pixel20', 'pixel21', 'pixel22', 'pixel23', 'pixel24',\n",
       "       'pixel25', 'pixel26', 'pixel27', 'pixel28', 'pixel29', 'pixel30',\n",
       "       'pixel31', 'pixel32', 'pixel33', 'pixel34', 'pixel35', 'pixel36',\n",
       "       'pixel37', 'pixel38', 'pixel39', 'pixel40', 'pixel41', 'pixel42',\n",
       "       'pixel43', 'pixel44', 'pixel45', 'pixel46', 'pixel47', 'pixel48',\n",
       "       'pixel49', 'pixel50', 'pixel51', 'pixel52', 'pixel53', 'pixel54',\n",
       "       'pixel55', 'pixel56', 'pixel57', 'pixel58', 'pixel59', 'pixel60',\n",
       "       'pixel61', 'pixel62', 'pixel63', 'pixel64', 'pixel65', 'pixel66',\n",
       "       'pixel67', 'pixel68', 'pixel69', 'pixel70', 'pixel71', 'pixel72',\n",
       "       'pixel73', 'pixel74', 'pixel75', 'pixel76', 'pixel77', 'pixel78',\n",
       "       'pixel79', 'pixel80', 'pixel81', 'pixel82', 'pixel83', 'pixel84',\n",
       "       'pixel85', 'pixel86', 'pixel87', 'pixel88', 'pixel89', 'pixel90',\n",
       "       'pixel91', 'pixel92', 'pixel93', 'pixel94', 'pixel95', 'pixel96',\n",
       "       'pixel97', 'pixel98', 'pixel99', 'pixel100', 'pixel101',\n",
       "       'pixel102', 'pixel103', 'pixel104', 'pixel105', 'pixel106',\n",
       "       'pixel107', 'pixel108', 'pixel109', 'pixel110', 'pixel111',\n",
       "       'pixel112', 'pixel113', 'pixel114', 'pixel115', 'pixel116',\n",
       "       'pixel117', 'pixel118', 'pixel119', 'pixel120', 'pixel121',\n",
       "       'pixel122', 'pixel123', 'pixel124', 'pixel125', 'pixel126',\n",
       "       'pixel127', 'pixel128', 'pixel129', 'pixel130', 'pixel131',\n",
       "       'pixel132', 'pixel133', 'pixel134', 'pixel135', 'pixel136',\n",
       "       'pixel137', 'pixel138', 'pixel139', 'pixel140', 'pixel141',\n",
       "       'pixel142', 'pixel143', 'pixel144', 'pixel145', 'pixel146',\n",
       "       'pixel147', 'pixel148', 'pixel149', 'pixel150', 'pixel151',\n",
       "       'pixel152', 'pixel153', 'pixel154', 'pixel155', 'pixel156',\n",
       "       'pixel157', 'pixel158', 'pixel159', 'pixel160', 'pixel161',\n",
       "       'pixel162', 'pixel163', 'pixel164', 'pixel165', 'pixel166',\n",
       "       'pixel167', 'pixel168', 'pixel169', 'pixel170', 'pixel171',\n",
       "       'pixel172', 'pixel173', 'pixel174', 'pixel175', 'pixel176',\n",
       "       'pixel177', 'pixel178', 'pixel179', 'pixel180', 'pixel181',\n",
       "       'pixel182', 'pixel183', 'pixel184', 'pixel185', 'pixel186',\n",
       "       'pixel187', 'pixel188', 'pixel189', 'pixel190', 'pixel191',\n",
       "       'pixel192', 'pixel193', 'pixel194', 'pixel195', 'pixel196',\n",
       "       'pixel197', 'pixel198', 'pixel199', 'pixel200', 'pixel201',\n",
       "       'pixel202', 'pixel203', 'pixel204', 'pixel205', 'pixel206',\n",
       "       'pixel207', 'pixel208', 'pixel209', 'pixel210', 'pixel211',\n",
       "       'pixel212', 'pixel213', 'pixel214', 'pixel215', 'pixel216',\n",
       "       'pixel217', 'pixel218', 'pixel219', 'pixel220', 'pixel221',\n",
       "       'pixel222', 'pixel223', 'pixel224', 'pixel225', 'pixel226',\n",
       "       'pixel227', 'pixel228', 'pixel229', 'pixel230', 'pixel231',\n",
       "       'pixel232', 'pixel233', 'pixel234', 'pixel235', 'pixel236',\n",
       "       'pixel237', 'pixel238', 'pixel239', 'pixel240', 'pixel241',\n",
       "       'pixel242', 'pixel243', 'pixel244', 'pixel245', 'pixel246',\n",
       "       'pixel247', 'pixel248', 'pixel249', 'pixel250', 'pixel251',\n",
       "       'pixel252', 'pixel253', 'pixel254', 'pixel255', 'pixel256',\n",
       "       'pixel257', 'pixel258', 'pixel259', 'pixel260', 'pixel261',\n",
       "       'pixel262', 'pixel263', 'pixel264', 'pixel265', 'pixel266',\n",
       "       'pixel267', 'pixel268', 'pixel269', 'pixel270', 'pixel271',\n",
       "       'pixel272', 'pixel273', 'pixel274', 'pixel275', 'pixel276',\n",
       "       'pixel277', 'pixel278', 'pixel279', 'pixel280', 'pixel281',\n",
       "       'pixel282', 'pixel283', 'pixel284', 'pixel285', 'pixel286',\n",
       "       'pixel287', 'pixel288', 'pixel289', 'pixel290', 'pixel291',\n",
       "       'pixel292', 'pixel293', 'pixel294', 'pixel295', 'pixel296',\n",
       "       'pixel297', 'pixel298', 'pixel299', 'pixel300', 'pixel301',\n",
       "       'pixel302', 'pixel303', 'pixel304', 'pixel305', 'pixel306',\n",
       "       'pixel307', 'pixel308', 'pixel309', 'pixel310', 'pixel311',\n",
       "       'pixel312', 'pixel313', 'pixel314', 'pixel315', 'pixel316',\n",
       "       'pixel317', 'pixel318', 'pixel319', 'pixel320', 'pixel321',\n",
       "       'pixel322', 'pixel323', 'pixel324', 'pixel325', 'pixel326',\n",
       "       'pixel327', 'pixel328', 'pixel329', 'pixel330', 'pixel331',\n",
       "       'pixel332', 'pixel333', 'pixel334', 'pixel335', 'pixel336',\n",
       "       'pixel337', 'pixel338', 'pixel339', 'pixel340', 'pixel341',\n",
       "       'pixel342', 'pixel343', 'pixel344', 'pixel345', 'pixel346',\n",
       "       'pixel347', 'pixel348', 'pixel349', 'pixel350', 'pixel351',\n",
       "       'pixel352', 'pixel353', 'pixel354', 'pixel355', 'pixel356',\n",
       "       'pixel357', 'pixel358', 'pixel359', 'pixel360', 'pixel361',\n",
       "       'pixel362', 'pixel363', 'pixel364', 'pixel365', 'pixel366',\n",
       "       'pixel367', 'pixel368', 'pixel369', 'pixel370', 'pixel371',\n",
       "       'pixel372', 'pixel373', 'pixel374', 'pixel375', 'pixel376',\n",
       "       'pixel377', 'pixel378', 'pixel379', 'pixel380', 'pixel381',\n",
       "       'pixel382', 'pixel383', 'pixel384', 'pixel385', 'pixel386',\n",
       "       'pixel387', 'pixel388', 'pixel389', 'pixel390', 'pixel391',\n",
       "       'pixel392', 'pixel393', 'pixel394', 'pixel395', 'pixel396',\n",
       "       'pixel397', 'pixel398', 'pixel399', 'pixel400', 'pixel401',\n",
       "       'pixel402', 'pixel403', 'pixel404', 'pixel405', 'pixel406',\n",
       "       'pixel407', 'pixel408', 'pixel409', 'pixel410', 'pixel411',\n",
       "       'pixel412', 'pixel413', 'pixel414', 'pixel415', 'pixel416',\n",
       "       'pixel417', 'pixel418', 'pixel419', 'pixel420', 'pixel421',\n",
       "       'pixel422', 'pixel423', 'pixel424', 'pixel425', 'pixel426',\n",
       "       'pixel427', 'pixel428', 'pixel429', 'pixel430', 'pixel431',\n",
       "       'pixel432', 'pixel433', 'pixel434', 'pixel435', 'pixel436',\n",
       "       'pixel437', 'pixel438', 'pixel439', 'pixel440', 'pixel441',\n",
       "       'pixel442', 'pixel443', 'pixel444', 'pixel445', 'pixel446',\n",
       "       'pixel447', 'pixel448', 'pixel449', 'pixel450', 'pixel451',\n",
       "       'pixel452', 'pixel453', 'pixel454', 'pixel455', 'pixel456',\n",
       "       'pixel457', 'pixel458', 'pixel459', 'pixel460', 'pixel461',\n",
       "       'pixel462', 'pixel463', 'pixel464', 'pixel465', 'pixel466',\n",
       "       'pixel467', 'pixel468', 'pixel469', 'pixel470', 'pixel471',\n",
       "       'pixel472', 'pixel473', 'pixel474', 'pixel475', 'pixel476',\n",
       "       'pixel477', 'pixel478', 'pixel479', 'pixel480', 'pixel481',\n",
       "       'pixel482', 'pixel483', 'pixel484', 'pixel485', 'pixel486',\n",
       "       'pixel487', 'pixel488', 'pixel489', 'pixel490', 'pixel491',\n",
       "       'pixel492', 'pixel493', 'pixel494', 'pixel495', 'pixel496',\n",
       "       'pixel497', 'pixel498', 'pixel499', 'pixel500', 'pixel501',\n",
       "       'pixel502', 'pixel503', 'pixel504', 'pixel505', 'pixel506',\n",
       "       'pixel507', 'pixel508', 'pixel509', 'pixel510', 'pixel511',\n",
       "       'pixel512', 'pixel513', 'pixel514', 'pixel515', 'pixel516',\n",
       "       'pixel517', 'pixel518', 'pixel519', 'pixel520', 'pixel521',\n",
       "       'pixel522', 'pixel523', 'pixel524', 'pixel525', 'pixel526',\n",
       "       'pixel527', 'pixel528', 'pixel529', 'pixel530', 'pixel531',\n",
       "       'pixel532', 'pixel533', 'pixel534', 'pixel535', 'pixel536',\n",
       "       'pixel537', 'pixel538', 'pixel539', 'pixel540', 'pixel541',\n",
       "       'pixel542', 'pixel543', 'pixel544', 'pixel545', 'pixel546',\n",
       "       'pixel547', 'pixel548', 'pixel549', 'pixel550', 'pixel551',\n",
       "       'pixel552', 'pixel553', 'pixel554', 'pixel555', 'pixel556',\n",
       "       'pixel557', 'pixel558', 'pixel559', 'pixel560', 'pixel561',\n",
       "       'pixel562', 'pixel563', 'pixel564', 'pixel565', 'pixel566',\n",
       "       'pixel567', 'pixel568', 'pixel569', 'pixel570', 'pixel571',\n",
       "       'pixel572', 'pixel573', 'pixel574', 'pixel575', 'pixel576',\n",
       "       'pixel577', 'pixel578', 'pixel579', 'pixel580', 'pixel581',\n",
       "       'pixel582', 'pixel583', 'pixel584', 'pixel585', 'pixel586',\n",
       "       'pixel587', 'pixel588', 'pixel589', 'pixel590', 'pixel591',\n",
       "       'pixel592', 'pixel593', 'pixel594', 'pixel595', 'pixel596',\n",
       "       'pixel597', 'pixel598', 'pixel599', 'pixel600', 'pixel601',\n",
       "       'pixel602', 'pixel603', 'pixel604', 'pixel605', 'pixel606',\n",
       "       'pixel607', 'pixel608', 'pixel609', 'pixel610', 'pixel611',\n",
       "       'pixel612', 'pixel613', 'pixel614', 'pixel615', 'pixel616',\n",
       "       'pixel617', 'pixel618', 'pixel619', 'pixel620', 'pixel621',\n",
       "       'pixel622', 'pixel623', 'pixel624', 'pixel625', 'pixel626',\n",
       "       'pixel627', 'pixel628', 'pixel629', 'pixel630', 'pixel631',\n",
       "       'pixel632', 'pixel633', 'pixel634', 'pixel635', 'pixel636',\n",
       "       'pixel637', 'pixel638', 'pixel639', 'pixel640', 'pixel641',\n",
       "       'pixel642', 'pixel643', 'pixel644', 'pixel645', 'pixel646',\n",
       "       'pixel647', 'pixel648', 'pixel649', 'pixel650', 'pixel651',\n",
       "       'pixel652', 'pixel653', 'pixel654', 'pixel655', 'pixel656',\n",
       "       'pixel657', 'pixel658', 'pixel659', 'pixel660', 'pixel661',\n",
       "       'pixel662', 'pixel663', 'pixel664', 'pixel665', 'pixel666',\n",
       "       'pixel667', 'pixel668', 'pixel669', 'pixel670', 'pixel671',\n",
       "       'pixel672', 'pixel673', 'pixel674', 'pixel675', 'pixel676',\n",
       "       'pixel677', 'pixel678', 'pixel679', 'pixel680', 'pixel681',\n",
       "       'pixel682', 'pixel683', 'pixel684', 'pixel685', 'pixel686',\n",
       "       'pixel687', 'pixel688', 'pixel689', 'pixel690', 'pixel691',\n",
       "       'pixel692', 'pixel693', 'pixel694', 'pixel695', 'pixel696',\n",
       "       'pixel697', 'pixel698', 'pixel699', 'pixel700', 'pixel701',\n",
       "       'pixel702', 'pixel703', 'pixel704', 'pixel705', 'pixel706',\n",
       "       'pixel707', 'pixel708', 'pixel709', 'pixel710', 'pixel711',\n",
       "       'pixel712', 'pixel713', 'pixel714', 'pixel715', 'pixel716',\n",
       "       'pixel717', 'pixel718', 'pixel719', 'pixel720', 'pixel721',\n",
       "       'pixel722', 'pixel723', 'pixel724', 'pixel725', 'pixel726',\n",
       "       'pixel727', 'pixel728', 'pixel729', 'pixel730', 'pixel731',\n",
       "       'pixel732', 'pixel733', 'pixel734', 'pixel735', 'pixel736',\n",
       "       'pixel737', 'pixel738', 'pixel739', 'pixel740', 'pixel741',\n",
       "       'pixel742', 'pixel743', 'pixel744', 'pixel745', 'pixel746',\n",
       "       'pixel747', 'pixel748', 'pixel749', 'pixel750', 'pixel751',\n",
       "       'pixel752', 'pixel753', 'pixel754', 'pixel755', 'pixel756',\n",
       "       'pixel757', 'pixel758', 'pixel759', 'pixel760', 'pixel761',\n",
       "       'pixel762', 'pixel763', 'pixel764', 'pixel765', 'pixel766',\n",
       "       'pixel767', 'pixel768', 'pixel769', 'pixel770', 'pixel771',\n",
       "       'pixel772', 'pixel773', 'pixel774', 'pixel775', 'pixel776',\n",
       "       'pixel777', 'pixel778', 'pixel779', 'pixel780', 'pixel781',\n",
       "       'pixel782', 'pixel783', 'pixel784'], dtype=object)"
      ]
     },
     "execution_count": 20,
     "metadata": {},
     "output_type": "execute_result"
    }
   ],
   "source": [
    "sgd_clf.n_features_in_\n",
    "sgd_clf.feature_names_in_"
   ]
  },
  {
   "cell_type": "code",
   "execution_count": 21,
   "id": "e7962011",
   "metadata": {},
   "outputs": [
    {
     "name": "stdout",
     "output_type": "stream",
     "text": [
      "fold 0 precision is 0.9290322580645162\n",
      "fold 0 recall is 0.6375207526286663\n",
      "fold 1 precision is 0.7581441263573544\n",
      "fold 1 recall is 0.8500276701715551\n",
      "fold 2 precision is 0.9355742296918768\n",
      "fold 2 recall is 0.5545102379634754\n"
     ]
    }
   ],
   "source": [
    "# to identify evaluation parameters better,\n",
    "# lets implement cross-validation.\n",
    "\n",
    "# stratifiedKFold is to keep representative ratio of each class in the train and test sets\n",
    "from sklearn.model_selection import StratifiedKFold \n",
    "from sklearn.base import clone\n",
    "\n",
    "# TODO check whether both the shuffle here and shuffle already done over the top is required.\n",
    "skfolds = StratifiedKFold(n_splits=3, shuffle=True, random_state=42)\n",
    "for _idx, (train_index, test_index) in enumerate(skfolds.split(X_train, y_train_5)):\n",
    "    clone_clf = clone(sgd_clf)\n",
    "    X_train_folds = X_train.iloc[train_index, :]\n",
    "    y_train_folds = y_train_5[train_index]\n",
    "    X_test_folds = X_train.iloc[test_index, :]\n",
    "    y_test_folds = y_train_5[test_index]\n",
    "    \n",
    "    _ = clone_clf.fit(X_train_folds, y_train_folds)\n",
    "    y_pred = clone_clf.predict(X_test_folds)\n",
    "    print(f'fold {_idx} precision is {precision_score(y_test_folds, y_pred)}')\n",
    "    print(f'fold {_idx} recall is {recall_score(y_test_folds, y_pred)}')"
   ]
  },
  {
   "cell_type": "markdown",
   "id": "7371d0b3",
   "metadata": {},
   "source": [
    "# might be required for the article\n",
    "\n",
    "for _idx, (train_idx, test_idx) in enumerate(skfolds.split(X_train, y_train_5)):\n",
    "    y_train_folds = y_train_5[train_idx]\n",
    "    y_test_folds = y_train_5[test_idx]  \n",
    "    \n",
    "    print(f'Fold: {_idx}')\n",
    "    print('train data')\n",
    "    print(y_train_folds.value_counts(normalize=True).reset_index())\n",
    "    print('test data')\n",
    "    print(y_test_folds.value_counts(normalize=True).reset_index())"
   ]
  },
  {
   "cell_type": "code",
   "execution_count": 22,
   "id": "b56b2a16",
   "metadata": {},
   "outputs": [],
   "source": [
    "# building a dumb classifier\n",
    "from sklearn.base import BaseEstimator\n",
    "\n",
    "class Never5Classifier(BaseEstimator):\n",
    "    def fit(self, X, y=None):\n",
    "        pass\n",
    "    def predict(self, X):\n",
    "        return np.zeros((len(X),), dtype=int)"
   ]
  },
  {
   "cell_type": "code",
   "execution_count": 23,
   "id": "fcb8fde9",
   "metadata": {},
   "outputs": [
    {
     "data": {
      "text/plain": [
       "array([0.909  , 0.90745, 0.9125 ])"
      ]
     },
     "execution_count": 23,
     "metadata": {},
     "output_type": "execute_result"
    }
   ],
   "source": [
    "not5_clf = Never5Classifier()\n",
    "cross_val_score(not5_clf, X_train, y_train_5, cv=3, scoring='accuracy')"
   ]
  },
  {
   "cell_type": "code",
   "execution_count": 24,
   "id": "54214ae4",
   "metadata": {},
   "outputs": [],
   "source": [
    "# cross_val_predict.\n",
    "# this is similar to cross_val_score, but instead of returning the evaluation scores,\n",
    "# cross_val_predict returns the prediction made on each test fold.\n",
    "\n",
    "from sklearn.model_selection import cross_val_predict\n",
    "y_train_pred = cross_val_predict(sgd_clf, X_train, y_train_5, cv=3)"
   ]
  },
  {
   "cell_type": "code",
   "execution_count": 25,
   "id": "699b76bc",
   "metadata": {},
   "outputs": [
    {
     "data": {
      "text/plain": [
       "array([[53124,  1455],\n",
       "       [  949,  4472]])"
      ]
     },
     "execution_count": 25,
     "metadata": {},
     "output_type": "execute_result"
    },
    {
     "data": {
      "text/plain": [
       "0.7881565033486078"
      ]
     },
     "execution_count": 25,
     "metadata": {},
     "output_type": "execute_result"
    }
   ],
   "source": [
    "from sklearn.metrics import confusion_matrix, f1_score\n",
    "confusion_matrix(y_train_5, y_train_pred)\n",
    "f1_score(y_train_5, y_train_pred)"
   ]
  },
  {
   "cell_type": "code",
   "execution_count": 26,
   "id": "0bc33c58",
   "metadata": {},
   "outputs": [
    {
     "name": "stdout",
     "output_type": "stream",
     "text": [
      "[1529.51751892]\n"
     ]
    }
   ],
   "source": [
    "y_scores = sgd_clf.decision_function(np.expand_dims(some_digit, axis=0))\n",
    "print(y_scores)"
   ]
  },
  {
   "cell_type": "code",
   "execution_count": 27,
   "id": "f4320a0e",
   "metadata": {},
   "outputs": [
    {
     "name": "stdout",
     "output_type": "stream",
     "text": [
      "(60000,)\n"
     ]
    }
   ],
   "source": [
    "# how to decide which threshold to use:\n",
    "y_scores = cross_val_predict(sgd_clf, X_train, y_train_5, cv=3, method='decision_function')\n",
    "print(y_scores.shape)"
   ]
  },
  {
   "cell_type": "code",
   "execution_count": 30,
   "id": "b06d7e1f",
   "metadata": {},
   "outputs": [],
   "source": [
    "# precision recall curve function.\n",
    "from sklearn.metrics import precision_recall_curve\n",
    "\n",
    "precisions, recalls, thresholds = precision_recall_curve(y_train_5, y_scores)"
   ]
  },
  {
   "cell_type": "code",
   "execution_count": 43,
   "id": "3f4905d3",
   "metadata": {},
   "outputs": [],
   "source": [
    "def plot_precision_recall_vs_threshold(precisions, recalls, thresholds):\n",
    "    plt.plot(thresholds, precisions[:-1], 'b--', label='precision')\n",
    "    plt.plot(thresholds, recalls[:-1], 'g-', label='recall')\n",
    "    plt.xlabel('threshold')\n",
    "    plt.ylim([0, 1])\n",
    "    plt.legend()\n",
    "    plt.grid()\n",
    "    plt.show()"
   ]
  },
  {
   "cell_type": "code",
   "execution_count": 44,
   "id": "a38f3750",
   "metadata": {},
   "outputs": [
    {
     "data": {
      "image/png": "[encoded data removed]",
      "text/plain": [
       "<Figure size 640x480 with 1 Axes>"
      ]
     },
     "metadata": {},
     "output_type": "display_data"
    }
   ],
   "source": [
    "plot_precision_recall_vs_threshold(precisions, recalls, thresholds)"
   ]
  },
  {
   "cell_type": "code",
   "execution_count": 55,
   "id": "d73fc107",
   "metadata": {},
   "outputs": [
    {
     "data": {
      "image/png": "[encoded data removed]",
      "text/plain": [
       "<Figure size 640x480 with 1 Axes>"
      ]
     },
     "metadata": {},
     "output_type": "display_data"
    }
   ],
   "source": [
    "def plot_precision_recall_curve(precision, recall):\n",
    "    plt.plot(recall, precision, 'b-')\n",
    "    plt.xlim([0, 1])\n",
    "    plt.ylim([0, 1])\n",
    "    plt.show\n",
    "    \n",
    "plot_precision_recall_curve(precisions, recalls)"
   ]
  },
  {
   "cell_type": "code",
   "execution_count": null,
   "id": "b71bb8a2",
   "metadata": {},
   "outputs": [],
   "source": []
  },
  {
   "cell_type": "code",
   "execution_count": null,
   "id": "c6523613",
   "metadata": {},
   "outputs": [],
   "source": [
    "# mnist data using densely connected neural networks.\n"
   ]
  },
  {
   "cell_type": "code",
   "execution_count": null,
   "id": "fe859525",
   "metadata": {},
   "outputs": [],
   "source": [
    "# mnist data using convolutional neural networks."
   ]
  },
  {
   "cell_type": "code",
   "execution_count": null,
   "id": "88a668c0",
   "metadata": {},
   "outputs": [],
   "source": []
  },
  {
   "cell_type": "code",
   "execution_count": null,
   "id": "953af6ba",
   "metadata": {},
   "outputs": [],
   "source": []
  },
  {
   "cell_type": "code",
   "execution_count": null,
   "id": "1c08c5cf",
   "metadata": {},
   "outputs": [],
   "source": []
  },
  {
   "cell_type": "code",
   "execution_count": null,
   "id": "b134f88b",
   "metadata": {},
   "outputs": [],
   "source": []
  },
  {
   "cell_type": "code",
   "execution_count": null,
   "id": "82290453",
   "metadata": {},
   "outputs": [],
   "source": []
  },
  {
   "cell_type": "code",
   "execution_count": null,
   "id": "a14479b9",
   "metadata": {},
   "outputs": [],
   "source": []
  },
  {
   "cell_type": "code",
   "execution_count": null,
   "id": "8b30708e",
   "metadata": {},
   "outputs": [],
   "source": []
  },
  {
   "cell_type": "code",
   "execution_count": null,
   "id": "0fad2501",
   "metadata": {},
   "outputs": [],
   "source": []
  },
  {
   "cell_type": "code",
   "execution_count": null,
   "id": "9b860fd6",
   "metadata": {},
   "outputs": [],
   "source": []
  },
  {
   "cell_type": "code",
   "execution_count": null,
   "id": "fa20449d",
   "metadata": {},
   "outputs": [],
   "source": []
  },
  {
   "cell_type": "code",
   "execution_count": null,
   "id": "afb0788e",
   "metadata": {},
   "outputs": [],
   "source": []
  },
  {
   "cell_type": "code",
   "execution_count": null,
   "id": "259520c5",
   "metadata": {},
   "outputs": [],
   "source": []
  },
  {
   "cell_type": "code",
   "execution_count": null,
   "id": "2209a9ea",
   "metadata": {},
   "outputs": [],
   "source": []
  },
  {
   "cell_type": "code",
   "execution_count": null,
   "id": "ef60d35c",
   "metadata": {},
   "outputs": [],
   "source": []
  },
  {
   "cell_type": "code",
   "execution_count": null,
   "id": "68b814e7",
   "metadata": {},
   "outputs": [],
   "source": []
  },
  {
   "cell_type": "code",
   "execution_count": null,
   "id": "c79d04a2",
   "metadata": {},
   "outputs": [],
   "source": []
  },
  {
   "cell_type": "code",
   "execution_count": null,
   "id": "cc7648f5",
   "metadata": {},
   "outputs": [],
   "source": []
  },
  {
   "cell_type": "code",
   "execution_count": null,
   "id": "f6ffe9f5",
   "metadata": {},
   "outputs": [],
   "source": []
  },
  {
   "cell_type": "code",
   "execution_count": null,
   "id": "7c80cb68",
   "metadata": {},
   "outputs": [],
   "source": []
  },
  {
   "cell_type": "code",
   "execution_count": null,
   "id": "732147ef",
   "metadata": {},
   "outputs": [],
   "source": []
  },
  {
   "cell_type": "code",
   "execution_count": null,
   "id": "61bf609e",
   "metadata": {},
   "outputs": [],
   "source": []
  },
  {
   "cell_type": "code",
   "execution_count": null,
   "id": "c6567735",
   "metadata": {},
   "outputs": [],
   "source": []
  },
  {
   "cell_type": "code",
   "execution_count": null,
   "id": "2b57498c",
   "metadata": {},
   "outputs": [],
   "source": []
  },
  {
   "cell_type": "code",
   "execution_count": null,
   "id": "f6d14773",
   "metadata": {},
   "outputs": [],
   "source": []
  },
  {
   "cell_type": "code",
   "execution_count": null,
   "id": "a0a6780f",
   "metadata": {},
   "outputs": [],
   "source": []
  },
  {
   "cell_type": "code",
   "execution_count": null,
   "id": "673734c9",
   "metadata": {},
   "outputs": [],
   "source": []
  },
  {
   "cell_type": "code",
   "execution_count": null,
   "id": "cffa7d6a",
   "metadata": {},
   "outputs": [],
   "source": []
  },
  {
   "cell_type": "code",
   "execution_count": null,
   "id": "b84585d6",
   "metadata": {},
   "outputs": [],
   "source": []
  },
  {
   "cell_type": "code",
   "execution_count": null,
   "id": "99495664",
   "metadata": {},
   "outputs": [],
   "source": []
  },
  {
   "cell_type": "code",
   "execution_count": null,
   "id": "fcb6a5f0",
   "metadata": {},
   "outputs": [],
   "source": []
  },
  {
   "cell_type": "code",
   "execution_count": null,
   "id": "b8f10e4d",
   "metadata": {},
   "outputs": [],
   "source": []
  },
  {
   "cell_type": "code",
   "execution_count": null,
   "id": "7a195d7c",
   "metadata": {},
   "outputs": [],
   "source": []
  },
  {
   "cell_type": "code",
   "execution_count": null,
   "id": "70cfac61",
   "metadata": {},
   "outputs": [],
   "source": []
  },
  {
   "cell_type": "code",
   "execution_count": null,
   "id": "7f665fbd",
   "metadata": {},
   "outputs": [],
   "source": []
  },
  {
   "cell_type": "code",
   "execution_count": null,
   "id": "67840c5f",
   "metadata": {},
   "outputs": [],
   "source": []
  },
  {
   "cell_type": "code",
   "execution_count": null,
   "id": "d421c9bd",
   "metadata": {},
   "outputs": [],
   "source": []
  },
  {
   "cell_type": "code",
   "execution_count": null,
   "id": "2a21510f",
   "metadata": {},
   "outputs": [],
   "source": []
  },
  {
   "cell_type": "code",
   "execution_count": null,
   "id": "d8959ffd",
   "metadata": {},
   "outputs": [],
   "source": []
  },
  {
   "cell_type": "code",
   "execution_count": null,
   "id": "228e6b3b",
   "metadata": {},
   "outputs": [],
   "source": []
  },
  {
   "cell_type": "code",
   "execution_count": null,
   "id": "744d0524",
   "metadata": {},
   "outputs": [],
   "source": []
  },
  {
   "cell_type": "code",
   "execution_count": null,
   "id": "4eb11f49",
   "metadata": {},
   "outputs": [],
   "source": []
  },
  {
   "cell_type": "code",
   "execution_count": null,
   "id": "dd642053",
   "metadata": {},
   "outputs": [],
   "source": []
  },
  {
   "cell_type": "code",
   "execution_count": null,
   "id": "93bf87c0",
   "metadata": {},
   "outputs": [],
   "source": []
  },
  {
   "cell_type": "code",
   "execution_count": null,
   "id": "51d72318",
   "metadata": {},
   "outputs": [],
   "source": []
  },
  {
   "cell_type": "code",
   "execution_count": null,
   "id": "996a7f56",
   "metadata": {},
   "outputs": [],
   "source": []
  },
  {
   "cell_type": "code",
   "execution_count": null,
   "id": "90511f34",
   "metadata": {},
   "outputs": [],
   "source": []
  },
  {
   "cell_type": "code",
   "execution_count": null,
   "id": "fa055a2f",
   "metadata": {},
   "outputs": [],
   "source": []
  }
 ],
 "metadata": {
  "kernelspec": {
   "display_name": "tf",
   "language": "python",
   "name": "tf"
  },
  "language_info": {
   "codemirror_mode": {
    "name": "ipython",
    "version": 3
   },
   "file_extension": ".py",
   "mimetype": "text/x-python",
   "name": "python",
   "nbconvert_exporter": "python",
   "pygments_lexer": "ipython3",
   "version": "3.9.17"
  }
 },
 "nbformat": 4,
 "nbformat_minor": 5
}
