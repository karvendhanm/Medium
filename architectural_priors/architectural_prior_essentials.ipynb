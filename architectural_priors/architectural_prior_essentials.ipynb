{
 "cells": [
  {
   "cell_type": "code",
   "execution_count": 1,
   "id": "aa2ed5d9",
   "metadata": {},
   "outputs": [],
   "source": [
    "import matplotlib\n",
    "import matplotlib.pyplot as plt\n",
    "import numpy as np\n",
    "import random"
   ]
  },
  {
   "cell_type": "code",
   "execution_count": 2,
   "id": "489cba7b",
   "metadata": {},
   "outputs": [],
   "source": [
    "from sklearn.datasets import fetch_openml\n",
    "from sklearn.linear_model import SGDClassifier\n",
    "from sklearn.metrics import confusion_matrix, precision_score, recall_score, accuracy_score, f1_score\n",
    "from sklearn.model_selection import cross_val_predict\n",
    "from sklearn.model_selection import cross_val_score\n",
    "from sklearn.neighbors import KNeighborsClassifier\n",
    "from sklearn.preprocessing import StandardScaler"
   ]
  },
  {
   "cell_type": "code",
   "execution_count": 3,
   "id": "9398c94c",
   "metadata": {},
   "outputs": [],
   "source": [
    "import warnings\n",
    "warnings.filterwarnings('ignore')"
   ]
  },
  {
   "cell_type": "code",
   "execution_count": 4,
   "id": "425d86ff",
   "metadata": {},
   "outputs": [],
   "source": [
    "# cache the downloaded dataset into 'data_home'\n",
    "mnist = fetch_openml('mnist_784', version=1, cache=True)"
   ]
  },
  {
   "cell_type": "code",
   "execution_count": 5,
   "id": "c25ca916",
   "metadata": {},
   "outputs": [],
   "source": [
    "data = mnist['data']\n",
    "target = mnist['target']"
   ]
  },
  {
   "cell_type": "code",
   "execution_count": 6,
   "id": "2dbb32c4",
   "metadata": {},
   "outputs": [],
   "source": [
    "X_train, X_test, y_train, y_test = data[:60000], data[60000:], target[:60000], target[60000:]\n",
    "\n",
    "y_train = y_train.astype('int')\n",
    "y_test = y_test.astype('int')\n",
    "\n",
    "X_train = X_train.sample(frac=1, random_state=42).reset_index(drop=True)\n",
    "y_train = y_train.sample(frac=1, random_state=42).reset_index(drop=True)"
   ]
  },
  {
   "cell_type": "code",
   "execution_count": 7,
   "id": "2a5ba642",
   "metadata": {},
   "outputs": [],
   "source": [
    "# initiate sgd classifier.\n",
    "sgd_clf = SGDClassifier(random_state=42)"
   ]
  },
  {
   "cell_type": "code",
   "execution_count": null,
   "id": "ec7b4719",
   "metadata": {},
   "outputs": [],
   "source": [
    "scaler = StandardScaler()\n",
    "X_train_scaled = scaler.fit_transform(X_train.astype(np.float64))\n",
    "y_train_pred = cross_val_predict(sgd_clf, X_train_scaled, y_train, cv=3)"
   ]
  },
  {
   "cell_type": "code",
   "execution_count": null,
   "id": "53c310b7",
   "metadata": {},
   "outputs": [],
   "source": [
    "# Lets take a look at one digit from the datatset. \n",
    "# Grab an random instance's feature vector, reshape it to a 28X28 array, and display the same\n",
    "# using matplotlib's imshow() function.\n",
    "def display_image(data, random_number):\n",
    "    \"\"\"\n",
    "    \n",
    "    :param data: \n",
    "    :param idx: \n",
    "    :return: \n",
    "    \"\"\"\n",
    "    some_digital_image = np.array(data.iloc[random_number, :]).reshape(28, 28)\n",
    "    plt.imshow(some_digital_image, cmap=matplotlib.cm.binary, interpolation='nearest')\n",
    "    plt.show()\n",
    "    \n",
    "    return None"
   ]
  },
  {
   "cell_type": "code",
   "execution_count": null,
   "id": "b88a7db1",
   "metadata": {},
   "outputs": [],
   "source": [
    "random_number = 2212\n",
    "some_digit = X_train.iloc[random_number, :]\n",
    "display_image(X_train, random_number)"
   ]
  },
  {
   "cell_type": "code",
   "execution_count": null,
   "id": "debf4aa4",
   "metadata": {},
   "outputs": [],
   "source": [
    "def plot_digits(instances, images_per_row=10, **options):\n",
    "    size = 28\n",
    "    images_per_row = min(len(instances), images_per_row)\n",
    "    images = [instance.values.reshape(size, size) for _, instance in instances.iterrows()]\n",
    "    n_rows = (len(instances) - 1) // images_per_row + 1\n",
    "    row_images = []\n",
    "    n_empty = n_rows * images_per_row - len(instances)\n",
    "    images.append(np.zeros((size, size * n_empty)))\n",
    "    for row in range(n_rows):\n",
    "        rimages = images[row * images_per_row: (row + 1) * images_per_row]\n",
    "        row_images.append(np.concatenate(rimages, axis=1))\n",
    "    image = np.concatenate(row_images, axis=0)\n",
    "    plt.imshow(image, cmap=matplotlib.cm.binary, **options)\n",
    "    plt.axis(\"off\")"
   ]
  },
  {
   "cell_type": "code",
   "execution_count": null,
   "id": "4ca2df59",
   "metadata": {},
   "outputs": [],
   "source": [
    "cl_a, cl_b = '3', '5'\n",
    "X_aa = X_train.loc[(y_train == cl_a) & (y_train_pred == cl_a), :]\n",
    "X_bb = X_train.loc[(y_train == cl_b) & (y_train_pred == cl_b), :]\n",
    "X_ab = X_train.loc[(y_train == cl_a) & (y_train_pred == cl_b), :]\n",
    "X_ba = X_train.loc[(y_train == cl_b) & (y_train_pred == cl_a), :]"
   ]
  },
  {
   "cell_type": "code",
   "execution_count": null,
   "id": "f9f8bf37",
   "metadata": {},
   "outputs": [],
   "source": [
    "plt.figure(figsize=(8, 8))\n",
    "plt.subplot(221); plot_digits(X_aa.iloc[:23, :], images_per_row=5)\n",
    "plt.subplot(222); plot_digits(X_ab.iloc[:23, :], images_per_row=5)\n",
    "plt.subplot(223); plot_digits(X_ba.iloc[:23, :], images_per_row=5)\n",
    "plt.subplot(224); plot_digits(X_bb.iloc[:23, :], images_per_row=5)\n",
    "plt.show()"
   ]
  },
  {
   "cell_type": "code",
   "execution_count": null,
   "id": "4d28daf9",
   "metadata": {},
   "outputs": [],
   "source": [
    "y_train_large = (y_train >= 7)\n",
    "y_train_odd = (y_train % 2 == 1)\n",
    "y_multilabel = np.c_[y_train_large, y_train_odd]\n",
    "\n",
    "knn_clf = KNeighborsClassifier()\n",
    "knn_clf.fit(X_train, y_multilabel)"
   ]
  },
  {
   "cell_type": "code",
   "execution_count": null,
   "id": "98b37346",
   "metadata": {},
   "outputs": [],
   "source": [
    "knn_clf.predict([some_digit])"
   ]
  },
  {
   "cell_type": "code",
   "execution_count": null,
   "id": "d29a2050",
   "metadata": {},
   "outputs": [],
   "source": [
    "y_train_knn_pred = cross_val_predict(knn_clf, X_train, y_train, cv=3)\n",
    "print(f1_score(y_train, y_train_knn_pred, average='macro'))"
   ]
  },
  {
   "cell_type": "code",
   "execution_count": null,
   "id": "9f50af52",
   "metadata": {},
   "outputs": [],
   "source": [
    "y_train_knn_pred = cross_val_predict(knn_clf, X_train, y_multilabel, cv=3)\n",
    "print(f1_score(y_multilabel, y_train_knn_pred, average='weighted'))"
   ]
  },
  {
   "cell_type": "code",
   "execution_count": null,
   "id": "6acec55f",
   "metadata": {},
   "outputs": [],
   "source": [
    "noise = np.random.randint(0, 100, size=(len(X_train), 784))\n",
    "X_train_mod = X_train + noise\n",
    "noise = np.random.randint(0, 100, size=(len(X_test), 784))\n",
    "X_test_mod = X_test + noise\n",
    "y_train_mod = X_train\n",
    "y_test_mod = X_test"
   ]
  },
  {
   "cell_type": "code",
   "execution_count": null,
   "id": "153fd460",
   "metadata": {},
   "outputs": [],
   "source": [
    "random_number = 2212\n",
    "display_image(X_train_mod, random_number)\n",
    "display_image(X_train, random_number)"
   ]
  },
  {
   "cell_type": "code",
   "execution_count": null,
   "id": "95835706",
   "metadata": {},
   "outputs": [],
   "source": [
    "some_noisy_digit = X_train_mod.iloc[random_number, :]\n",
    "knn_clf = KNeighborsClassifier()\n",
    "knn_clf.fit(X_train_mod, y_train_mod)\n",
    "clean_digit = knn_clf.predict([some_noisy_digit])"
   ]
  },
  {
   "cell_type": "code",
   "execution_count": null,
   "id": "46f24d36",
   "metadata": {},
   "outputs": [],
   "source": [
    "plt.imshow(clean_digit.reshape(28, 28), cmap=matplotlib.cm.binary, interpolation='nearest')\n",
    "plt.show()"
   ]
  },
  {
   "cell_type": "code",
   "execution_count": null,
   "id": "21cf3bd9",
   "metadata": {},
   "outputs": [],
   "source": []
  },
  {
   "cell_type": "code",
   "execution_count": null,
   "id": "fca4faf4",
   "metadata": {},
   "outputs": [],
   "source": []
  },
  {
   "cell_type": "code",
   "execution_count": null,
   "id": "c7e67552",
   "metadata": {},
   "outputs": [],
   "source": []
  }
 ],
 "metadata": {
  "kernelspec": {
   "display_name": "tf",
   "language": "python",
   "name": "tf"
  },
  "language_info": {
   "codemirror_mode": {
    "name": "ipython",
    "version": 3
   },
   "file_extension": ".py",
   "mimetype": "text/x-python",
   "name": "python",
   "nbconvert_exporter": "python",
   "pygments_lexer": "ipython3",
   "version": "3.9.17"
  }
 },
 "nbformat": 4,
 "nbformat_minor": 5
}
